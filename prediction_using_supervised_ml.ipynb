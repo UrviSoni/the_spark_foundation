{
  "nbformat": 4,
  "nbformat_minor": 0,
  "metadata": {
    "colab": {
      "name": "prediction_using_supervised_ml.ipynb",
      "provenance": [],
      "authorship_tag": "ABX9TyNnWU0EBniAPUzqBGO9iXae",
      "include_colab_link": true
    },
    "kernelspec": {
      "name": "python3",
      "display_name": "Python 3"
    },
    "accelerator": "GPU"
  },
  "cells": [
    {
      "cell_type": "markdown",
      "metadata": {
        "id": "view-in-github",
        "colab_type": "text"
      },
      "source": [
        "<a href=\"https://colab.research.google.com/github/UrviSoni/the_spark_foundation/blob/main/prediction_using_supervised_ml.ipynb\" target=\"_parent\"><img src=\"https://colab.research.google.com/assets/colab-badge.svg\" alt=\"Open In Colab\"/></a>"
      ]
    },
    {
      "cell_type": "markdown",
      "metadata": {
        "id": "KLmQ2LkiUJmW"
      },
      "source": [
        "# **The Spark Foundation**\n",
        "\n",
        "![logo_small.png](data:image/png;base64,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)\n",
        "\n",
        "\n",
        "\n",
        "---\n",
        "\n",
        "###***`Task:- Prediction Using Supervised ML`***\n",
        "\n",
        "\n",
        "---\n",
        "\n",
        "\n",
        "\n",
        "*   Created By:- [Urvi Soni](https://www.linkedin.com/in/urvisoni6/)\n",
        "\n",
        "\n",
        "\n"
      ]
    },
    {
      "cell_type": "markdown",
      "metadata": {
        "id": "E7jNpQXaWjqM"
      },
      "source": [
        "\n",
        "\n",
        "---\n",
        "\n",
        "\n",
        "***Predict the percentage of an student based on the no. of study hours.***\n",
        "\n",
        "\n",
        "---\n",
        "\n"
      ]
    },
    {
      "cell_type": "markdown",
      "metadata": {
        "id": "MMUVD7fOXNhv"
      },
      "source": [
        "***Step 1:-*** ***Import required Libraries***"
      ]
    },
    {
      "cell_type": "code",
      "metadata": {
        "id": "fKo01LMKTpOb"
      },
      "source": [
        "%matplotlib inline\n",
        "import pandas as pd\n",
        "import numpy as np\n",
        "import matplotlib.pyplot as plt\n",
        "import seaborn as sns\n",
        "sns.set()"
      ],
      "execution_count": 64,
      "outputs": []
    },
    {
      "cell_type": "markdown",
      "metadata": {
        "id": "9DHlA7xlYtin"
      },
      "source": [
        "***Step 2:- Load The Dataset***"
      ]
    },
    {
      "cell_type": "code",
      "metadata": {
        "id": "l4cpVBiKYpwh"
      },
      "source": [
        "s = pd.read_csv('/content/student_score.csv') # read_csv() function imports a CSV file to DataFrame format"
      ],
      "execution_count": 65,
      "outputs": []
    },
    {
      "cell_type": "code",
      "metadata": {
        "colab": {
          "base_uri": "https://localhost:8080/",
          "height": 204
        },
        "id": "0mXelwTPZGtf",
        "outputId": "5d963f74-2c96-43a7-98c0-7477d6f39ba3"
      },
      "source": [
        "s.head() # head() method is used to return top n (5 by default) rows of a data frame or series"
      ],
      "execution_count": 66,
      "outputs": [
        {
          "output_type": "execute_result",
          "data": {
            "text/html": [
              "<div>\n",
              "<style scoped>\n",
              "    .dataframe tbody tr th:only-of-type {\n",
              "        vertical-align: middle;\n",
              "    }\n",
              "\n",
              "    .dataframe tbody tr th {\n",
              "        vertical-align: top;\n",
              "    }\n",
              "\n",
              "    .dataframe thead th {\n",
              "        text-align: right;\n",
              "    }\n",
              "</style>\n",
              "<table border=\"1\" class=\"dataframe\">\n",
              "  <thead>\n",
              "    <tr style=\"text-align: right;\">\n",
              "      <th></th>\n",
              "      <th>Hours</th>\n",
              "      <th>Scores</th>\n",
              "    </tr>\n",
              "  </thead>\n",
              "  <tbody>\n",
              "    <tr>\n",
              "      <th>0</th>\n",
              "      <td>2.5</td>\n",
              "      <td>21</td>\n",
              "    </tr>\n",
              "    <tr>\n",
              "      <th>1</th>\n",
              "      <td>5.1</td>\n",
              "      <td>47</td>\n",
              "    </tr>\n",
              "    <tr>\n",
              "      <th>2</th>\n",
              "      <td>3.2</td>\n",
              "      <td>27</td>\n",
              "    </tr>\n",
              "    <tr>\n",
              "      <th>3</th>\n",
              "      <td>8.5</td>\n",
              "      <td>75</td>\n",
              "    </tr>\n",
              "    <tr>\n",
              "      <th>4</th>\n",
              "      <td>3.5</td>\n",
              "      <td>30</td>\n",
              "    </tr>\n",
              "  </tbody>\n",
              "</table>\n",
              "</div>"
            ],
            "text/plain": [
              "   Hours  Scores\n",
              "0    2.5      21\n",
              "1    5.1      47\n",
              "2    3.2      27\n",
              "3    8.5      75\n",
              "4    3.5      30"
            ]
          },
          "metadata": {
            "tags": []
          },
          "execution_count": 66
        }
      ]
    },
    {
      "cell_type": "markdown",
      "metadata": {
        "id": "_47Z_SdfZb47"
      },
      "source": [
        "***Step 3:- EDA (Exploratory Data Analysis)***"
      ]
    },
    {
      "cell_type": "code",
      "metadata": {
        "colab": {
          "base_uri": "https://localhost:8080/"
        },
        "id": "S5pJL7WxZH68",
        "outputId": "77436bb8-daa5-44ac-939e-6ff909891a5f"
      },
      "source": [
        "s.shape # \"shape\" returns the shape of an array. The shape is a tuple of integers. The \"shape\" of an array is a tuple with the number of elements per axis (dimension)."
      ],
      "execution_count": 67,
      "outputs": [
        {
          "output_type": "execute_result",
          "data": {
            "text/plain": [
              "(25, 2)"
            ]
          },
          "metadata": {
            "tags": []
          },
          "execution_count": 67
        }
      ]
    },
    {
      "cell_type": "code",
      "metadata": {
        "colab": {
          "base_uri": "https://localhost:8080/"
        },
        "id": "0NzHNcRvZlDv",
        "outputId": "8c26a410-97a5-4a16-d6c1-cf27cd3a8a84"
      },
      "source": [
        "s.info() # info() prints information about a DataFrame including the index dtype and column dtypes, non-null values and memory usage"
      ],
      "execution_count": 68,
      "outputs": [
        {
          "output_type": "stream",
          "text": [
            "<class 'pandas.core.frame.DataFrame'>\n",
            "RangeIndex: 25 entries, 0 to 24\n",
            "Data columns (total 2 columns):\n",
            " #   Column  Non-Null Count  Dtype  \n",
            "---  ------  --------------  -----  \n",
            " 0   Hours   25 non-null     float64\n",
            " 1   Scores  25 non-null     int64  \n",
            "dtypes: float64(1), int64(1)\n",
            "memory usage: 528.0 bytes\n"
          ],
          "name": "stdout"
        }
      ]
    },
    {
      "cell_type": "code",
      "metadata": {
        "colab": {
          "base_uri": "https://localhost:8080/",
          "height": 297
        },
        "id": "aSCj-nltZrC0",
        "outputId": "e0f09c7b-2db6-4182-ee1d-af2108e9f9ab"
      },
      "source": [
        "s.describe() # describe() is used to view some basic statistical details like percentile, mean, std etc. of a data frame or a series of numeric values."
      ],
      "execution_count": 69,
      "outputs": [
        {
          "output_type": "execute_result",
          "data": {
            "text/html": [
              "<div>\n",
              "<style scoped>\n",
              "    .dataframe tbody tr th:only-of-type {\n",
              "        vertical-align: middle;\n",
              "    }\n",
              "\n",
              "    .dataframe tbody tr th {\n",
              "        vertical-align: top;\n",
              "    }\n",
              "\n",
              "    .dataframe thead th {\n",
              "        text-align: right;\n",
              "    }\n",
              "</style>\n",
              "<table border=\"1\" class=\"dataframe\">\n",
              "  <thead>\n",
              "    <tr style=\"text-align: right;\">\n",
              "      <th></th>\n",
              "      <th>Hours</th>\n",
              "      <th>Scores</th>\n",
              "    </tr>\n",
              "  </thead>\n",
              "  <tbody>\n",
              "    <tr>\n",
              "      <th>count</th>\n",
              "      <td>25.000000</td>\n",
              "      <td>25.000000</td>\n",
              "    </tr>\n",
              "    <tr>\n",
              "      <th>mean</th>\n",
              "      <td>5.012000</td>\n",
              "      <td>51.480000</td>\n",
              "    </tr>\n",
              "    <tr>\n",
              "      <th>std</th>\n",
              "      <td>2.525094</td>\n",
              "      <td>25.286887</td>\n",
              "    </tr>\n",
              "    <tr>\n",
              "      <th>min</th>\n",
              "      <td>1.100000</td>\n",
              "      <td>17.000000</td>\n",
              "    </tr>\n",
              "    <tr>\n",
              "      <th>25%</th>\n",
              "      <td>2.700000</td>\n",
              "      <td>30.000000</td>\n",
              "    </tr>\n",
              "    <tr>\n",
              "      <th>50%</th>\n",
              "      <td>4.800000</td>\n",
              "      <td>47.000000</td>\n",
              "    </tr>\n",
              "    <tr>\n",
              "      <th>75%</th>\n",
              "      <td>7.400000</td>\n",
              "      <td>75.000000</td>\n",
              "    </tr>\n",
              "    <tr>\n",
              "      <th>max</th>\n",
              "      <td>9.200000</td>\n",
              "      <td>95.000000</td>\n",
              "    </tr>\n",
              "  </tbody>\n",
              "</table>\n",
              "</div>"
            ],
            "text/plain": [
              "           Hours     Scores\n",
              "count  25.000000  25.000000\n",
              "mean    5.012000  51.480000\n",
              "std     2.525094  25.286887\n",
              "min     1.100000  17.000000\n",
              "25%     2.700000  30.000000\n",
              "50%     4.800000  47.000000\n",
              "75%     7.400000  75.000000\n",
              "max     9.200000  95.000000"
            ]
          },
          "metadata": {
            "tags": []
          },
          "execution_count": 69
        }
      ]
    },
    {
      "cell_type": "markdown",
      "metadata": {
        "id": "Scm_BBB5hD6l"
      },
      "source": [
        "\n",
        "\n",
        "*   ***loc :-*** `loc` is label-based, which means that we have to specify the name of the rows and columns that we need to filter out\n",
        "\n",
        "\n",
        "\n",
        "*   ***iloc :-*** `iloc` is integer index-based. So here, we have to specify rows and columns by their integer index\n",
        "\n",
        "\n"
      ]
    },
    {
      "cell_type": "code",
      "metadata": {
        "id": "EGmLgtImZxcY"
      },
      "source": [
        "X = s.iloc[:, :-1].values \n",
        "Y = s.iloc[:, 1].values"
      ],
      "execution_count": 70,
      "outputs": []
    },
    {
      "cell_type": "code",
      "metadata": {
        "colab": {
          "base_uri": "https://localhost:8080/",
          "height": 824
        },
        "id": "MDYn3A_LiF6K",
        "outputId": "16c65fe1-47e1-42be-b6f7-34125b4cced7"
      },
      "source": [
        "X = s.iloc[:,:-1]\n",
        "X"
      ],
      "execution_count": 71,
      "outputs": [
        {
          "output_type": "execute_result",
          "data": {
            "text/html": [
              "<div>\n",
              "<style scoped>\n",
              "    .dataframe tbody tr th:only-of-type {\n",
              "        vertical-align: middle;\n",
              "    }\n",
              "\n",
              "    .dataframe tbody tr th {\n",
              "        vertical-align: top;\n",
              "    }\n",
              "\n",
              "    .dataframe thead th {\n",
              "        text-align: right;\n",
              "    }\n",
              "</style>\n",
              "<table border=\"1\" class=\"dataframe\">\n",
              "  <thead>\n",
              "    <tr style=\"text-align: right;\">\n",
              "      <th></th>\n",
              "      <th>Hours</th>\n",
              "    </tr>\n",
              "  </thead>\n",
              "  <tbody>\n",
              "    <tr>\n",
              "      <th>0</th>\n",
              "      <td>2.5</td>\n",
              "    </tr>\n",
              "    <tr>\n",
              "      <th>1</th>\n",
              "      <td>5.1</td>\n",
              "    </tr>\n",
              "    <tr>\n",
              "      <th>2</th>\n",
              "      <td>3.2</td>\n",
              "    </tr>\n",
              "    <tr>\n",
              "      <th>3</th>\n",
              "      <td>8.5</td>\n",
              "    </tr>\n",
              "    <tr>\n",
              "      <th>4</th>\n",
              "      <td>3.5</td>\n",
              "    </tr>\n",
              "    <tr>\n",
              "      <th>5</th>\n",
              "      <td>1.5</td>\n",
              "    </tr>\n",
              "    <tr>\n",
              "      <th>6</th>\n",
              "      <td>9.2</td>\n",
              "    </tr>\n",
              "    <tr>\n",
              "      <th>7</th>\n",
              "      <td>5.5</td>\n",
              "    </tr>\n",
              "    <tr>\n",
              "      <th>8</th>\n",
              "      <td>8.3</td>\n",
              "    </tr>\n",
              "    <tr>\n",
              "      <th>9</th>\n",
              "      <td>2.7</td>\n",
              "    </tr>\n",
              "    <tr>\n",
              "      <th>10</th>\n",
              "      <td>7.7</td>\n",
              "    </tr>\n",
              "    <tr>\n",
              "      <th>11</th>\n",
              "      <td>5.9</td>\n",
              "    </tr>\n",
              "    <tr>\n",
              "      <th>12</th>\n",
              "      <td>4.5</td>\n",
              "    </tr>\n",
              "    <tr>\n",
              "      <th>13</th>\n",
              "      <td>3.3</td>\n",
              "    </tr>\n",
              "    <tr>\n",
              "      <th>14</th>\n",
              "      <td>1.1</td>\n",
              "    </tr>\n",
              "    <tr>\n",
              "      <th>15</th>\n",
              "      <td>8.9</td>\n",
              "    </tr>\n",
              "    <tr>\n",
              "      <th>16</th>\n",
              "      <td>2.5</td>\n",
              "    </tr>\n",
              "    <tr>\n",
              "      <th>17</th>\n",
              "      <td>1.9</td>\n",
              "    </tr>\n",
              "    <tr>\n",
              "      <th>18</th>\n",
              "      <td>6.1</td>\n",
              "    </tr>\n",
              "    <tr>\n",
              "      <th>19</th>\n",
              "      <td>7.4</td>\n",
              "    </tr>\n",
              "    <tr>\n",
              "      <th>20</th>\n",
              "      <td>2.7</td>\n",
              "    </tr>\n",
              "    <tr>\n",
              "      <th>21</th>\n",
              "      <td>4.8</td>\n",
              "    </tr>\n",
              "    <tr>\n",
              "      <th>22</th>\n",
              "      <td>3.8</td>\n",
              "    </tr>\n",
              "    <tr>\n",
              "      <th>23</th>\n",
              "      <td>6.9</td>\n",
              "    </tr>\n",
              "    <tr>\n",
              "      <th>24</th>\n",
              "      <td>7.8</td>\n",
              "    </tr>\n",
              "  </tbody>\n",
              "</table>\n",
              "</div>"
            ],
            "text/plain": [
              "    Hours\n",
              "0     2.5\n",
              "1     5.1\n",
              "2     3.2\n",
              "3     8.5\n",
              "4     3.5\n",
              "5     1.5\n",
              "6     9.2\n",
              "7     5.5\n",
              "8     8.3\n",
              "9     2.7\n",
              "10    7.7\n",
              "11    5.9\n",
              "12    4.5\n",
              "13    3.3\n",
              "14    1.1\n",
              "15    8.9\n",
              "16    2.5\n",
              "17    1.9\n",
              "18    6.1\n",
              "19    7.4\n",
              "20    2.7\n",
              "21    4.8\n",
              "22    3.8\n",
              "23    6.9\n",
              "24    7.8"
            ]
          },
          "metadata": {
            "tags": []
          },
          "execution_count": 71
        }
      ]
    },
    {
      "cell_type": "code",
      "metadata": {
        "id": "7D9gZE26jxFL",
        "outputId": "89c7bcd5-5e47-4c70-bd9a-813866579b26",
        "colab": {
          "base_uri": "https://localhost:8080/"
        }
      },
      "source": [
        "X = s.iloc[:,:-1].values\n",
        "X"
      ],
      "execution_count": 72,
      "outputs": [
        {
          "output_type": "execute_result",
          "data": {
            "text/plain": [
              "array([[2.5],\n",
              "       [5.1],\n",
              "       [3.2],\n",
              "       [8.5],\n",
              "       [3.5],\n",
              "       [1.5],\n",
              "       [9.2],\n",
              "       [5.5],\n",
              "       [8.3],\n",
              "       [2.7],\n",
              "       [7.7],\n",
              "       [5.9],\n",
              "       [4.5],\n",
              "       [3.3],\n",
              "       [1.1],\n",
              "       [8.9],\n",
              "       [2.5],\n",
              "       [1.9],\n",
              "       [6.1],\n",
              "       [7.4],\n",
              "       [2.7],\n",
              "       [4.8],\n",
              "       [3.8],\n",
              "       [6.9],\n",
              "       [7.8]])"
            ]
          },
          "metadata": {
            "tags": []
          },
          "execution_count": 72
        }
      ]
    },
    {
      "cell_type": "code",
      "metadata": {
        "colab": {
          "base_uri": "https://localhost:8080/"
        },
        "id": "XZ_Mdf0HilB7",
        "outputId": "2b2b2d7d-c8fe-4116-e766-baae1d897dcc"
      },
      "source": [
        "Y = s.iloc[:,1]\n",
        "Y"
      ],
      "execution_count": 73,
      "outputs": [
        {
          "output_type": "execute_result",
          "data": {
            "text/plain": [
              "0     21\n",
              "1     47\n",
              "2     27\n",
              "3     75\n",
              "4     30\n",
              "5     20\n",
              "6     88\n",
              "7     60\n",
              "8     81\n",
              "9     25\n",
              "10    85\n",
              "11    62\n",
              "12    41\n",
              "13    42\n",
              "14    17\n",
              "15    95\n",
              "16    30\n",
              "17    24\n",
              "18    67\n",
              "19    69\n",
              "20    30\n",
              "21    54\n",
              "22    35\n",
              "23    76\n",
              "24    86\n",
              "Name: Scores, dtype: int64"
            ]
          },
          "metadata": {
            "tags": []
          },
          "execution_count": 73
        }
      ]
    },
    {
      "cell_type": "code",
      "metadata": {
        "id": "HPtfgrDXj2Ee",
        "outputId": "5453d89d-2fbf-41da-e42d-47ac15a65909",
        "colab": {
          "base_uri": "https://localhost:8080/"
        }
      },
      "source": [
        "Y = s.iloc[:,1].values\n",
        "Y"
      ],
      "execution_count": 74,
      "outputs": [
        {
          "output_type": "execute_result",
          "data": {
            "text/plain": [
              "array([21, 47, 27, 75, 30, 20, 88, 60, 81, 25, 85, 62, 41, 42, 17, 95, 30,\n",
              "       24, 67, 69, 30, 54, 35, 76, 86])"
            ]
          },
          "metadata": {
            "tags": []
          },
          "execution_count": 74
        }
      ]
    },
    {
      "cell_type": "code",
      "metadata": {
        "id": "i8z8C6SraGfD"
      },
      "source": [
        "from sklearn.model_selection import train_test_split \n",
        "X_train, X_test, Y_train, Y_test = train_test_split(X, Y, test_size= 0.1, random_state= 0)"
      ],
      "execution_count": 76,
      "outputs": []
    },
    {
      "cell_type": "code",
      "metadata": {
        "colab": {
          "base_uri": "https://localhost:8080/",
          "height": 355
        },
        "id": "tPLdEfpdaPtv",
        "outputId": "de0b2c5f-8d0d-4772-a5b1-fe6c534c4d3e"
      },
      "source": [
        "sns.distplot(Y_train, kde=True) # kde (Kernel Density Estimation) is a way to estimate the probability density function of a continuous random variable. It is used for non-parametric analysis\n",
        "plt.title('Scores Distribution')"
      ],
      "execution_count": 77,
      "outputs": [
        {
          "output_type": "stream",
          "text": [
            "/usr/local/lib/python3.6/dist-packages/seaborn/distributions.py:2551: FutureWarning: `distplot` is a deprecated function and will be removed in a future version. Please adapt your code to use either `displot` (a figure-level function with similar flexibility) or `histplot` (an axes-level function for histograms).\n",
            "  warnings.warn(msg, FutureWarning)\n"
          ],
          "name": "stderr"
        },
        {
          "output_type": "execute_result",
          "data": {
            "text/plain": [
              "Text(0.5, 1.0, 'Scores Distribution')"
            ]
          },
          "metadata": {
            "tags": []
          },
          "execution_count": 77
        },
        {
          "output_type": "display_data",
          "data": {
            "image/png": "[encoded data removed]",
            "text/plain": [
              "<Figure size 432x288 with 1 Axes>"
            ]
          },
          "metadata": {
            "tags": []
          }
        }
      ]
    },
    {
      "cell_type": "code",
      "metadata": {
        "colab": {
          "base_uri": "https://localhost:8080/",
          "height": 355
        },
        "id": "5XbEi83uaarr",
        "outputId": "446990c3-754c-4f76-9f2e-9a4a1f10fe94"
      },
      "source": [
        "sns.regplot(X_train, Y_train) # regplot() method is used to plot data and a linear regression model fit\n",
        "plt.title('Hours VS Scores')"
      ],
      "execution_count": 78,
      "outputs": [
        {
          "output_type": "stream",
          "text": [
            "/usr/local/lib/python3.6/dist-packages/seaborn/_decorators.py:43: FutureWarning: Pass the following variables as keyword args: x, y. From version 0.12, the only valid positional argument will be `data`, and passing other arguments without an explicit keyword will result in an error or misinterpretation.\n",
            "  FutureWarning\n"
          ],
          "name": "stderr"
        },
        {
          "output_type": "execute_result",
          "data": {
            "text/plain": [
              "Text(0.5, 1.0, 'Hours VS Scores')"
            ]
          },
          "metadata": {
            "tags": []
          },
          "execution_count": 78
        },
        {
          "output_type": "display_data",
          "data": {
            "image/png": "[encoded data removed]",
            "text/plain": [
              "<Figure size 432x288 with 1 Axes>"
            ]
          },
          "metadata": {
            "tags": []
          }
        }
      ]
    },
    {
      "cell_type": "markdown",
      "metadata": {
        "id": "r0caPHvMa59M"
      },
      "source": [
        "***Step 4:- Create A Model***"
      ]
    },
    {
      "cell_type": "code",
      "metadata": {
        "colab": {
          "base_uri": "https://localhost:8080/"
        },
        "id": "Z7Job7m4axav",
        "outputId": "82f67329-e681-4728-9a2a-18ecb7b8ddcc"
      },
      "source": [
        "# fitting simple linear regression to the training set\n",
        "from sklearn.linear_model import LinearRegression \n",
        "regressor = LinearRegression()\n",
        "regressor.fit(X_train, Y_train)"
      ],
      "execution_count": 79,
      "outputs": [
        {
          "output_type": "execute_result",
          "data": {
            "text/plain": [
              "LinearRegression(copy_X=True, fit_intercept=True, n_jobs=None, normalize=False)"
            ]
          },
          "metadata": {
            "tags": []
          },
          "execution_count": 79
        }
      ]
    },
    {
      "cell_type": "code",
      "metadata": {
        "colab": {
          "base_uri": "https://localhost:8080/",
          "height": 142
        },
        "id": "WV3BQoV7bKkN",
        "outputId": "9856aebd-b82d-430e-8fc6-4a276ed76809"
      },
      "source": [
        "# predicting the test set results\n",
        "Y_pred = regressor.predict(X_test)\n",
        "\n",
        "# Comparing Actual vs Predicted\n",
        "df = pd.DataFrame({'Actual': Y_test, 'Predicted': Y_pred})  \n",
        "df.head()"
      ],
      "execution_count": 80,
      "outputs": [
        {
          "output_type": "execute_result",
          "data": {
            "text/html": [
              "<div>\n",
              "<style scoped>\n",
              "    .dataframe tbody tr th:only-of-type {\n",
              "        vertical-align: middle;\n",
              "    }\n",
              "\n",
              "    .dataframe tbody tr th {\n",
              "        vertical-align: top;\n",
              "    }\n",
              "\n",
              "    .dataframe thead th {\n",
              "        text-align: right;\n",
              "    }\n",
              "</style>\n",
              "<table border=\"1\" class=\"dataframe\">\n",
              "  <thead>\n",
              "    <tr style=\"text-align: right;\">\n",
              "      <th></th>\n",
              "      <th>Actual</th>\n",
              "      <th>Predicted</th>\n",
              "    </tr>\n",
              "  </thead>\n",
              "  <tbody>\n",
              "    <tr>\n",
              "      <th>0</th>\n",
              "      <td>20</td>\n",
              "      <td>17.302210</td>\n",
              "    </tr>\n",
              "    <tr>\n",
              "      <th>1</th>\n",
              "      <td>27</td>\n",
              "      <td>34.055294</td>\n",
              "    </tr>\n",
              "    <tr>\n",
              "      <th>2</th>\n",
              "      <td>69</td>\n",
              "      <td>75.445267</td>\n",
              "    </tr>\n",
              "  </tbody>\n",
              "</table>\n",
              "</div>"
            ],
            "text/plain": [
              "   Actual  Predicted\n",
              "0      20  17.302210\n",
              "1      27  34.055294\n",
              "2      69  75.445267"
            ]
          },
          "metadata": {
            "tags": []
          },
          "execution_count": 80
        }
      ]
    },
    {
      "cell_type": "markdown",
      "metadata": {
        "id": "DT39lBMVbefW"
      },
      "source": [
        "***Step 5:- Visualize the Result***"
      ]
    },
    {
      "cell_type": "code",
      "metadata": {
        "colab": {
          "base_uri": "https://localhost:8080/",
          "height": 301
        },
        "id": "hr-h9dePbUa0",
        "outputId": "6b13409e-6e6c-4ef0-928b-2148cf627ee2"
      },
      "source": [
        "#visualising the training set results\n",
        "plt.scatter(X_train, Y_train, color = 'maroon')\n",
        "plt.plot(X_train,  regressor.predict(X_train), color= 'green')\n",
        "plt.title('Hours VS Scores (Training set)')\n",
        "plt.xlabel('Hours')\n",
        "plt.ylabel('Scores')\n",
        "plt.show()\n"
      ],
      "execution_count": 81,
      "outputs": [
        {
          "output_type": "display_data",
          "data": {
            "image/png": "[encoded data removed]",
            "text/plain": [
              "<Figure size 432x288 with 1 Axes>"
            ]
          },
          "metadata": {
            "tags": []
          }
        }
      ]
    },
    {
      "cell_type": "code",
      "metadata": {
        "colab": {
          "base_uri": "https://localhost:8080/",
          "height": 301
        },
        "id": "YY3ojYilbtlu",
        "outputId": "65193ad4-9239-4e00-b24d-5f7bcd1465cf"
      },
      "source": [
        "#visualising the test set results\n",
        "plt.scatter(X_test, Y_test, color = 'maroon')\n",
        "plt.plot(X_train,  regressor.predict(X_train), color= 'green')\n",
        "plt.title('Hours VS Scores (Test set)')\n",
        "plt.xlabel('Hours')\n",
        "plt.ylabel('Scores')\n",
        "plt.show()\n"
      ],
      "execution_count": 82,
      "outputs": [
        {
          "output_type": "display_data",
          "data": {
            "image/png": "[encoded data removed]",
            "text/plain": [
              "<Figure size 432x288 with 1 Axes>"
            ]
          },
          "metadata": {
            "tags": []
          }
        }
      ]
    },
    {
      "cell_type": "markdown",
      "metadata": {
        "id": "3Xy-QCs3cISE"
      },
      "source": [
        "***Step 6:- Model Evaluation***"
      ]
    },
    {
      "cell_type": "code",
      "metadata": {
        "colab": {
          "base_uri": "https://localhost:8080/"
        },
        "id": "dbSpRRrycDlE",
        "outputId": "769e2be7-6b99-4df2-9d68-521a0b25c769"
      },
      "source": [
        "k = X_test.shape[1] # \"shape\" returns the shape of an array.\n",
        "n = len(X_test)\n",
        "n"
      ],
      "execution_count": 83,
      "outputs": [
        {
          "output_type": "execute_result",
          "data": {
            "text/plain": [
              "3"
            ]
          },
          "metadata": {
            "tags": []
          },
          "execution_count": 83
        }
      ]
    },
    {
      "cell_type": "markdown",
      "metadata": {
        "id": "jkGBVaEtmqmO"
      },
      "source": [
        "***R2 Score (Coefficient of Determination):-***  R2 score is used to evaluate the performance of a linear regression model"
      ]
    },
    {
      "cell_type": "code",
      "metadata": {
        "colab": {
          "base_uri": "https://localhost:8080/"
        },
        "id": "x15-C33dcdZY",
        "outputId": "87ea820d-546a-443e-c267-e0ff02a5f9a9"
      },
      "source": [
        "from sklearn.metrics import r2_score\n",
        "from math import sqrt\n",
        "\n",
        "r2 = r2_score(Y_test, Y_pred)\n",
        "adj_r2 = 1-(1-r2)*(n-1)/(n-k-1)\n",
        "\n",
        "print('R2 =', r2, '\\nAdjusted R2 =', adj_r2)"
      ],
      "execution_count": 84,
      "outputs": [
        {
          "output_type": "stream",
          "text": [
            "R2 = 0.9298077534821835 \n",
            "Adjusted R2 = 0.859615506964367\n"
          ],
          "name": "stdout"
        }
      ]
    },
    {
      "cell_type": "markdown",
      "metadata": {
        "id": "hrpnkXLOcmxm"
      },
      "source": [
        "***Step 7:- Predict Future Data***"
      ]
    },
    {
      "cell_type": "code",
      "metadata": {
        "colab": {
          "base_uri": "https://localhost:8080/"
        },
        "id": "xb0tuoVtch36",
        "outputId": "13e10089-8839-4006-e250-96ce11b72104"
      },
      "source": [
        "Hours = 9.25\n",
        "pred = regressor.predict([[Hours]])\n",
        "\n",
        "print('Hours =', Hours, '\\nPrediction =', pred)"
      ],
      "execution_count": 85,
      "outputs": [
        {
          "output_type": "stream",
          "text": [
            "Hours = 9.25 \n",
            "Prediction = [93.67656425]\n"
          ],
          "name": "stdout"
        }
      ]
    },
    {
      "cell_type": "markdown",
      "metadata": {
        "id": "rT7DhYTlc912"
      },
      "source": [
        "\n",
        "\n",
        "---\n",
        "\n",
        "\n",
        "Q 1:- What will be the predicted score if a student studies for 9.25 \n",
        "hrs/day?\n",
        "\n",
        "=> If A Student studies for 9.25 hrs/day, predicted score will be **`93.67656425`**\n",
        "\n",
        "\n",
        "---\n",
        "\n"
      ]
    }
  ]
}